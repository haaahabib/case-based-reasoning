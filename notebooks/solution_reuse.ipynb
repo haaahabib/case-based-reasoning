{
  "nbformat": 4,
  "nbformat_minor": 0,
  "metadata": {
    "colab": {
      "provenance": [],
      "gpuType": "T4"
    },
    "kernelspec": {
      "name": "python3",
      "display_name": "Python 3"
    },
    "language_info": {
      "name": "python"
    },
    "accelerator": "GPU"
  },
  "cells": [
    {
      "cell_type": "markdown",
      "source": [
        "# Mount Google Drive dan Konfigurasi Direktori"
      ],
      "metadata": {
        "id": "njSyT-lqOsRy"
      }
    },
    {
      "cell_type": "code",
      "execution_count": 2,
      "metadata": {
        "colab": {
          "base_uri": "https://localhost:8080/"
        },
        "id": "tedSJ_uZOSrV",
        "outputId": "a0e4db92-5bf7-402c-a0d1-4d84f296657d"
      },
      "outputs": [
        {
          "output_type": "stream",
          "name": "stdout",
          "text": [
            "Mounting Google Drive...\n",
            "Mounted at /content/drive\n",
            "Google Drive mounted.\n",
            "\n",
            "Direktori input data: /content/drive/My Drive/UAS Penalaran Komputer/data_processed\n",
            "Direktori output model: /content/drive/My Drive/UAS Penalaran Komputer/models\n",
            "Data berhasil dimuat dari: /content/drive/My Drive/UAS Penalaran Komputer/data_processed/cases_representation.csv\n"
          ]
        },
        {
          "output_type": "stream",
          "name": "stderr",
          "text": [
            "[nltk_data] Downloading package stopwords to /root/nltk_data...\n",
            "[nltk_data]   Unzipping corpora/stopwords.zip.\n"
          ]
        },
        {
          "output_type": "stream",
          "name": "stdout",
          "text": [
            "\n",
            "Fitting the pipeline model...\n",
            "Pipeline model fitted.\n"
          ]
        }
      ],
      "source": [
        "from google.colab import drive\n",
        "import os\n",
        "import pandas as pd\n",
        "import re\n",
        "from sklearn.feature_extraction.text import TfidfVectorizer\n",
        "from sklearn.pipeline import Pipeline\n",
        "from sklearn.svm import SVC\n",
        "from sklearn.metrics.pairwise import cosine_similarity\n",
        "import nltk\n",
        "from nltk.corpus import stopwords\n",
        "# from nltk.stem import PorterStemmer # Jika digunakan di preprocessing\n",
        "\n",
        "# Mount Google Drive\n",
        "print(\"Mounting Google Drive...\")\n",
        "drive.mount('/content/drive')\n",
        "print(\"Google Drive mounted.\")\n",
        "\n",
        "# Konfigurasi Direktori\n",
        "BASE_DRIVE_PATH = '/content/drive/My Drive/UAS Penalaran Komputer/'\n",
        "INPUT_DATA_DIR = os.path.join(BASE_DRIVE_PATH, 'data_processed')\n",
        "INPUT_FILENAME_CSV = 'cases_representation.csv'\n",
        "MODEL_OUTPUT_DIR = os.path.join(BASE_DRIVE_PATH, 'models')\n",
        "\n",
        "print(f\"\\nDirektori input data: {INPUT_DATA_DIR}\")\n",
        "print(f\"Direktori output model: {MODEL_OUTPUT_DIR}\")\n",
        "\n",
        "# Load Data dan Model\n",
        "input_csv_path = os.path.join(INPUT_DATA_DIR, INPUT_FILENAME_CSV)\n",
        "try:\n",
        "    df_cases = pd.read_csv(input_csv_path)\n",
        "    print(f\"Data berhasil dimuat dari: {input_csv_path}\")\n",
        "except FileNotFoundError:\n",
        "    print(f\"ERROR: File '{input_csv_path}' tidak ditemukan. Pastikan path dan nama file benar.\")\n",
        "    exit()\n",
        "except Exception as e:\n",
        "    print(f\"ERROR saat memuat data: {e}\")\n",
        "    exit()\n",
        "\n",
        "# Load model pipeline yang sudah dilatih (opsional)\n",
        "# from joblib import load\n",
        "# model_path = os.path.join(MODEL_OUTPUT_DIR, 'tfidf_classifier_model.joblib')\n",
        "# try:\n",
        "#     pipeline_model = load(model_path)\n",
        "#     print(f\"Model berhasil dimuat dari: {model_path}\")\n",
        "# except FileNotFoundError:\n",
        "#     print(f\"ERROR: Model '{model_path}' tidak ditemukan. Latih ulang model atau pastikan path benar.\")\n",
        "#     exit()\n",
        "# except Exception as e:\n",
        "#     print(f\"ERROR saat memuat model: {e}\")\n",
        "#     exit()\n",
        "\n",
        "# Re-define preprocessing components and apply to df_cases\n",
        "# Download stopwords if not already downloaded\n",
        "nltk.download('stopwords')\n",
        "\n",
        "\n",
        "stop_words = set(stopwords.words('indonesian'))\n",
        "# stemmer = PorterStemmer()\n",
        "\n",
        "def preprocess_text(text):\n",
        "    text = str(text).lower()\n",
        "    text = re.sub(r'[^a-z0-9\\s]', '', text)\n",
        "    tokens = text.split()\n",
        "    tokens = [word for word in tokens if word not in stop_words]\n",
        "    # if stemmer: tokens = [stemmer.stem(word) for word in tokens]\n",
        "    return ' '.join(tokens)\n",
        "\n",
        "df_cases['preprocessed_text_features'] = df_cases['text_full'].apply(preprocess_text)\n",
        "\n",
        "# Re-define pipeline_model\n",
        "pipeline_model = Pipeline([\n",
        "    ('tfidf', TfidfVectorizer(max_features=5000, ngram_range=(1, 2), min_df=5, max_df=0.8)),\n",
        "    ('classifier', SVC(kernel='linear', probability=True, random_state=42))\n",
        "])\n",
        "\n",
        "# Fit the pipeline model to the preprocessed text features\n",
        "print(\"\\nFitting the pipeline model...\")\n",
        "pipeline_model.fit(df_cases['preprocessed_text_features'], df_cases['pasal'].fillna('Unknown')) # Using 'pasal' as a dummy target for fitting\n",
        "print(\"Pipeline model fitted.\")"
      ]
    },
    {
      "cell_type": "markdown",
      "source": [
        "# Fungsi Solution Reuse"
      ],
      "metadata": {
        "id": "ensilVYqOxeV"
      }
    },
    {
      "cell_type": "code",
      "source": [
        "def retrieve_and_reuse_solution(query_text, df_cases, pipeline_model, top_k=3):\n",
        "    print(f\"\\n--- Memproses Query untuk Solution Reuse ---\")\n",
        "    print(f\"Query Teks: {query_text}\")\n",
        "\n",
        "    # 1. Preprocessing Query\n",
        "    preprocessed_query = preprocess_text(query_text)\n",
        "    print(f\"Query Teks (Preprocessed): {preprocessed_query}\")\n",
        "\n",
        "    # 2. Case Retrieval (menggunakan Cosine Similarity pada TF-IDF)\n",
        "    query_vector = pipeline_model.named_steps['tfidf'].transform([preprocessed_query])\n",
        "    all_case_vectors = pipeline_model.named_steps['tfidf'].transform(df_cases['preprocessed_text_features'])\n",
        "\n",
        "    similarities = cosine_similarity(query_vector, all_case_vectors).flatten()\n",
        "    top_k_indices = similarities.argsort()[-top_k:][::-1]\n",
        "\n",
        "    print(f\"\\nMenemukan {top_k} kasus paling mirip:\")\n",
        "    retrieved_cases_info = []\n",
        "    for rank, idx in enumerate(top_k_indices):\n",
        "        case_info = df_cases.iloc[idx].to_dict()\n",
        "        case_info['similarity_score'] = similarities[idx]\n",
        "        retrieved_cases_info.append(case_info)\n",
        "        print(f\"  Rank {rank+1}: Case ID: {case_info['case_id']}, File: {case_info['filename']}, Similarity: {case_info['similarity_score']:.4f}\")\n",
        "        print(f\"    No. Perkara: {case_info['no_perkara']}, Tanggal: {case_info['tanggal']}\")\n",
        "        print(f\"    Pasal: {case_info['pasal']}\")\n",
        "        # Convert to string and handle potential NaNs before slicing\n",
        "        amar_putusan_str = str(case_info.get('amar_putusan', '') or '')\n",
        "        print(f\"    Amar Putusan (Singkat): {amar_putusan_str[:150]}...\")\n",
        "\n",
        "\n",
        "    # 3. Solution Reuse: Ekstrak solusi dari kasus yang ditemukan\n",
        "    recommended_passals = []\n",
        "    recommended_amar_putusan = []\n",
        "\n",
        "    for case in retrieved_cases_info:\n",
        "        if case.get('pasal'):\n",
        "            recommended_passals.extend([p.strip() for p in str(case['pasal']).split(';') if p.strip()])\n",
        "        if case.get('amar_putusan'):\n",
        "            recommended_amar_putusan.append(str(case['amar_putusan']))\n",
        "\n",
        "    recommended_passals = sorted(list(set(recommended_passals)))\n",
        "\n",
        "    # 4. Rekomendasi\n",
        "    recommendations = {\n",
        "        'query_text': query_text,\n",
        "        'top_k_retrieved_cases': retrieved_cases_info,\n",
        "        'recommended_passals': recommended_passals,\n",
        "        'summary_amar_putusan_from_similar_cases': \"\\n\".join(recommended_amar_putusan[:top_k]) # Ambil amar putusan dari top_k kasus\n",
        "    }\n",
        "\n",
        "    return recommendations"
      ],
      "metadata": {
        "id": "MIAmhdzUO0dQ"
      },
      "execution_count": 3,
      "outputs": []
    },
    {
      "cell_type": "markdown",
      "source": [
        "# Simulasi Solution Reuse dengan Query Uji"
      ],
      "metadata": {
        "id": "FPYxONMgO2mO"
      }
    },
    {
      "cell_type": "code",
      "source": [
        "new_queries = [\n",
        "    {\n",
        "        'query_text': \"Seorang pria ditangkap polisi di Surabaya karena memiliki 5 gram sabu. Ia diduga melanggar undang-undang narkotika tentang kepemilikan.\",\n",
        "        'description': \"Kasus baru: kepemilikan sabu 5 gram.\"\n",
        "    },\n",
        "    {\n",
        "        'query_text': \"Ada kasus pengedaran ekstasi besar-besaran di Jakarta. Terdakwa sering menjual barang terlarang ini di diskotik. Pasal yang relevan adalah tentang peredaran narkotika.\",\n",
        "        'description': \"Kasus baru: pengedaran ekstasi.\"\n",
        "    },\n",
        "    {\n",
        "        'query_text': \"Seorang wanita tertangkap membawa daun ganja kering untuk konsumsi pribadi. Tidak ada bukti penjualan.\",\n",
        "        'description': \"Kasus baru: kepemilikan ganja untuk pribadi.\"\n",
        "    },\n",
        "    {\n",
        "        'query_text': \"Sindikat narkoba internasional tertangkap saat menyelundupkan kokain dalam jumlah besar melalui pelabuhan.\",\n",
        "        'description': \"Kasus baru: sindikat internasional, kokain, penyelundupan.\"\n",
        "    }\n",
        "]\n",
        "\n",
        "print(\"\\n--- Melakukan Solution Reuse untuk Query Baru ---\")\n",
        "\n",
        "for i, query_item in enumerate(new_queries):\n",
        "    query_text = query_item['query_text']\n",
        "    description = query_item['description']\n",
        "\n",
        "    print(f\"\\n--- Query {i+1}: {description} ---\")\n",
        "    recommendations = retrieve_and_reuse_solution(query_text, df_cases, pipeline_model, top_k=3)\n",
        "\n",
        "    print(\"\\n--- Rekomendasi Solusi Berdasarkan Kasus Serupa ---\")\n",
        "    print(f\"Pasal yang Direkomendasikan: {', '.join(recommendations['recommended_passals']) if recommendations['recommended_passals'] else 'Tidak ditemukan pasal relevan.'}\")\n",
        "    print(\"\\nRingkasan Amar Putusan dari Kasus Paling Mirip:\")\n",
        "    print(recommendations['summary_amar_putusan_from_similar_cases'])\n",
        "    print(\"\\n\" + \"=\"*50) # Pembatas untuk setiap query"
      ],
      "metadata": {
        "colab": {
          "base_uri": "https://localhost:8080/"
        },
        "id": "WK_R1XG9O4t4",
        "outputId": "dbb30e02-5993-4f04-9412-85c827800782"
      },
      "execution_count": 4,
      "outputs": [
        {
          "output_type": "stream",
          "name": "stdout",
          "text": [
            "\n",
            "--- Melakukan Solution Reuse untuk Query Baru ---\n",
            "\n",
            "--- Query 1: Kasus baru: kepemilikan sabu 5 gram. ---\n",
            "\n",
            "--- Memproses Query untuk Solution Reuse ---\n",
            "Query Teks: Seorang pria ditangkap polisi di Surabaya karena memiliki 5 gram sabu. Ia diduga melanggar undang-undang narkotika tentang kepemilikan.\n",
            "Query Teks (Preprocessed): pria ditangkap polisi surabaya memiliki 5 gram sabu diduga melanggar undangundang narkotika kepemilikan\n",
            "\n",
            "Menemukan 3 kasus paling mirip:\n",
            "  Rank 1: Case ID: 45, File: 855_Pid.Sus_2024_PN Rap.txt, Similarity: 0.0332\n",
            "    No. Perkara: 855/Pid.Sus/2024/PN Rap, Tanggal: 28 Juli 2024\n",
            "    Pasal: 1 Angka 1\n",
            "    Amar Putusan (Singkat): nan...\n",
            "  Rank 2: Case ID: 26, File: 840_Pid.Sus_2024_PN Rap.txt, Similarity: 0.0311\n",
            "    No. Perkara: 840/Pid.Sus/2024/PN Rap, Tanggal: 25 Juli 2024\n",
            "    Pasal: 1 Angka 1\n",
            "    Amar Putusan (Singkat): 1.Menyatakan Terdakwa Risky Ardiansyah Putra Rambe Alias Kadung tersebut diatas tidak terbukti secara sah dan meyakinkan bersalah melakukan tindak pid...\n",
            "  Rank 3: Case ID: 12, File: 754_Pid.Sus_2024_PN Rap.txt, Similarity: 0.0304\n",
            "    No. Perkara: 754/Pid.Sus/2024/PN Rap, Tanggal: 5 Mei 2024\n",
            "    Pasal: nan\n",
            "    Amar Putusan (Singkat): 1.Menyatakan Terdakwa I. Bayu Ariadi alias Bayu dan Terdakwa II. Khairul Rozikin alias Heru tersebut diatas terbukti secara sah dan meyakinkan bersala...\n",
            "\n",
            "--- Rekomendasi Solusi Berdasarkan Kasus Serupa ---\n",
            "Pasal yang Direkomendasikan: 1 Angka 1, nan\n",
            "\n",
            "Ringkasan Amar Putusan dari Kasus Paling Mirip:\n",
            "nan\n",
            "1.Menyatakan Terdakwa Risky Ardiansyah Putra Rambe Alias Kadung tersebut diatas tidak terbukti secara sah dan meyakinkan bersalah melakukan tindak pidana sebagaimana dalam Dakwaan Primair; Halaman 34 dari 36 Putusan Nomor 840/Pid.Sus/2024/PN Rap Disclaimer Kepaniteraan Mahkamah Agung Republik Indonesia berusaha untuk selalu mencantumkan informasi paling kini dan akurat sebagai bentuk komitmen Mahkamah Agung untuk pelayanan publik, transparansi dan akuntabilitas pelaksanaan fungsi peradilan. Namun dalam hal-hal tertentu masih dimungkinkan terjadi permasalahan teknis terkait dengan akurasi dan keterkinian informasi yang kami sajikan, hal mana akan terus kami perbaiki dari waktu kewaktu. Dalam hal Anda menemukan inakurasi informasi yang termuat pada situs ini atau informasi yang seharusnya ada, namun belum tersedia, maka harap segera hubungi Kepaniteraan Mahkamah Agung RI melalui : Email : kepaniteraan@mahkamahagung.go.id Telp : 021-384 3348 (ext.318) Halaman 34 Mahkamah Agung Republik Indonesia Mahkamah Agung Republik Indonesia Mahkamah Agung Republik Indonesia Mahkamah Agung Republik Indonesia Mahkamah Agung Republik Indonesia 2.Membebaskan Terdakwa oleh karena itu dari Dakwaan Primair; 3.Menyatakan Terdakwa Risky Ardiansyah Putra Rambe Alias Kadung tersebut diatas terbukti secara sah dan meyakinkan bersalah melakukan tindak pidana “Tanpa Hak Memiliki Narkotika Golongan I Bukan Tanaman” sebagaimana dalam Dakwaan Subsidair; 4.Menjatuhkan pidana kepada Terdakwa oleh karena itu dengan pidana penjara selama 4 (empat) Tahun...\n",
            "1.Menyatakan Terdakwa I. Bayu Ariadi alias Bayu dan Terdakwa II. Khairul Rozikin alias Heru tersebut diatas terbukti secara sah dan meyakinkan bersalah melakukan tindak pidana “Permufakatan Jahat Tanpa Hak Membeli Narkotika Golongan I“, sebagaimana dalam Dakwaan Primair; 2.Menjatuhkan pidana kepada Para Terdakwa oleh karena itu dengan pidana penjara masing-masing selama 7 (tujuh) tahun dan denda sejumlah Rp1.000.000.000,00 (satu milyar rupiah) dengan ketentuan apabila denda tersebut tidak dibayar diganti dengan pidana penjara selama 3 (tiga) bulan; 3.Menetapkan masa penangkapan dan penahanan yang telah dijalani Para Terdakwa dikurangkan seluruhnya dari pidana yang dijatuhkan; 4.Menetapkan Para Terdakwa tetap ditahan; 5.Menetapkan barang bukti berupa: -2 (dua) bungkus plastik klip kecil berisikan narkotika jenis sabu seberat 1,42 (satu koma empat dua) gram netto; -1 (satu) bungkus plastik klip kosong; -1 (satu) unit handphone Vivo berwarna silver; -1 (satu) buah kotak rokok X Bold; -1 (satu) pasang sandal warna hijau; Dimusnahkan; -1 (satu) unit sepeda motor Scoopy warna hitam abu-abu Nomor Polisi BK 2271 ZAR; Dirampas untuk Negara; 6.Membebankan kepada Para Terdakwa membayar biaya perkara masing-masing sejumlah Rp.5.000,00 (lima ribu rupiah);\n",
            "\n",
            "==================================================\n",
            "\n",
            "--- Query 2: Kasus baru: pengedaran ekstasi. ---\n",
            "\n",
            "--- Memproses Query untuk Solution Reuse ---\n",
            "Query Teks: Ada kasus pengedaran ekstasi besar-besaran di Jakarta. Terdakwa sering menjual barang terlarang ini di diskotik. Pasal yang relevan adalah tentang peredaran narkotika.\n",
            "Query Teks (Preprocessed): pengedaran ekstasi besarbesaran jakarta terdakwa menjual barang terlarang diskotik pasal relevan peredaran narkotika\n",
            "\n",
            "Menemukan 3 kasus paling mirip:\n",
            "  Rank 1: Case ID: 42, File: 816_Pid.Sus_2024_PN Rap.txt, Similarity: 0.0265\n",
            "    No. Perkara: 816/Pid.Sus/2024/PN Rap, Tanggal: 27 Mei 2024\n",
            "    Pasal: 7 jo pasal 8\n",
            "    Amar Putusan (Singkat): 1.Menyatakan Terdakwa Ferry Andreawan alias Ari Kurniawan alias Ari tersebut diatas tidak terbukti secara sah dan meyakinkan bersalah melakukan tindak...\n",
            "  Rank 2: Case ID: 10, File: 817_Pid.Sus_2024_PN Rap.txt, Similarity: 0.0248\n",
            "    No. Perkara: 817/Pid.Sus/2024/PN Rap, Tanggal: 16 Mei 2024\n",
            "    Pasal: nan\n",
            "    Amar Putusan (Singkat): 1.Menyatakan Terdakwa Erzy Septian alias Erzy tersebut diatas terbukti secara sah dan meyakinkan bersalah melakukan tindak pidana “Turut Serta Tanpa H...\n",
            "  Rank 3: Case ID: 49, File: 845_Pid.Sus_2024_PN Rap.txt, Similarity: 0.0235\n",
            "    No. Perkara: 845/Pid.Sus/2024/PN Rap, Tanggal: 23 Juli 2024\n",
            "    Pasal: 1 Angka 1\n",
            "    Amar Putusan (Singkat): Halaman 23 dari 25 Putusan Nomor 845/Pid.Sus/2024/PN Rap Disclaimer Kepaniteraan Mahkamah Agung Republik Indonesia berusaha untuk selalu mencantumkan ...\n",
            "\n",
            "--- Rekomendasi Solusi Berdasarkan Kasus Serupa ---\n",
            "Pasal yang Direkomendasikan: 1 Angka 1, 7 jo pasal 8, nan\n",
            "\n",
            "Ringkasan Amar Putusan dari Kasus Paling Mirip:\n",
            "1.Menyatakan Terdakwa Ferry Andreawan alias Ari Kurniawan alias Ari tersebut diatas tidak terbukti secara sah dan meyakinkan bersalah melakukan tindak pidana sebagaimana dalam Dakwaan Primair; 2.Membebaskan Terdakwa oleh karena itu dari Dakwaan Primair; 3.Menyatakan Terdakwa Ferry Andreawan alias Ari Kurniawan alias Ari tersebut diatas terbukti secara sah dan meyakinkan bersalah melakukan tindak pidana “Tanpa Hak Memiliki Narkotika Golongan I Bukan Tanaman“, sebagaimana dalam Dakwaan Subsidair; 4.Menjatuhkan pidana kepada Terdakwa oleh karena itu dengan pidana penjara selama 6 (enam) tahun dan denda sejumlah Rp1.000.000.000,00 (satu milyar rupiah) dengan ketentuan apabila denda tersebut tidak dibayar diganti dengan pidana penjara selama 3 (tiga) bulan; 5.Menetapkan masa penangkapan dan penahanan yang telah dijalani Terdakwa dikurangkan seluruhnya dari pidana yang dijatuhkan; 6.Menetapkan Terdakwa tetap ditahan; 7.Menetapkan barang bukti berupa: -1 (satu) buah plastik klip berisi narkotika jenis sabu seberat 0,05 (nol koma nol lima) gram netto; -1 (satu) buah plastik klip kosong; Halaman 23 dari 24 Putusan Nomor 816/Pid.Sus/2024/PN Rap Disclaimer Kepaniteraan Mahkamah Agung Republik Indonesia berusaha untuk selalu mencantumkan informasi paling kini dan akurat sebagai bentuk komitmen Mahkamah Agung untuk pelayanan publik, transparansi dan akuntabilitas pelaksanaan fungsi peradilan. Namun dalam hal-hal tertentu masih dimungkinkan terjadi permasalahan teknis terkait dengan akurasi dan keterkinian informasi yang...\n",
            "1.Menyatakan Terdakwa Erzy Septian alias Erzy tersebut diatas terbukti secara sah dan meyakinkan bersalah melakukan tindak pidana “Turut Serta Tanpa Hak Menjual Narkotika Golongan I“, sebagaimana dalam Dakwaan Primair; 2.Menjatuhkan pidana kepada Terdakwa oleh karena itu dengan pidana penjara selama 6 (enam) tahun dan denda sejumlah Rp1.000.000.000,00 (satu milyar rupiah) dengan ketentuan apabila denda tersebut tidak dibayar diganti dengan pidana penjara selama 3 (tiga) bulan; 3.Menetapkan masa penangkapan dan penahanan yang telah dijalani Terdakwa dikurangkan seluruhnya dari pidana yang dijatuhkan; 4.Menetapkan Terdakwa tetap ditahan; 5.Menetapkan barang bukti berupa: -1 (satu) plastik klip berisi narkotika jenis sabu seberat 0,16 (nol koma satu enam) gram netto; -1 (satu) bungkus plastik klip berisi plastik klip kosong; -1 (satu) unit handphone android merek Vivo warna hitam; Dimusnahkan; -Uang tunai sebesar Rp1.000.000,00 (satu juta rupiah); Dirampas untuk Negara; 6.Membebankan kepada Terdakwa membayar biaya perkara sejumlah Rp.5.000,00 (lima ribu rupiah);\n",
            "Halaman 23 dari 25 Putusan Nomor 845/Pid.Sus/2024/PN Rap Disclaimer Kepaniteraan Mahkamah Agung Republik Indonesia berusaha untuk selalu mencantumkan informasi paling kini dan akurat sebagai bentuk komitmen Mahkamah Agung untuk pelayanan publik, transparansi dan akuntabilitas pelaksanaan fungsi peradilan. Namun dalam hal-hal tertentu masih dimungkinkan terjadi permasalahan teknis terkait dengan akurasi dan keterkinian informasi yang kami sajikan, hal mana akan terus kami perbaiki dari waktu kewaktu. Dalam hal Anda menemukan inakurasi informasi yang termuat pada situs ini atau informasi yang seharusnya ada, namun belum tersedia, maka harap segera hubungi Kepaniteraan Mahkamah Agung RI melalui : Email : kepaniteraan@mahkamahagung.go.id Telp : 021-384 3348 (ext.318) Halaman 23 Mahkamah Agung Republik Indonesia Mahkamah Agung Republik Indonesia Mahkamah Agung Republik Indonesia Mahkamah Agung Republik Indonesia Mahkamah Agung Republik Indonesia 1.Menyatakan Terdakwa Alfensyah Alias Alpen tersebut diatas tidak terbukti secara sah dan meyakinkan bersalah melakukan tindak pidana sebagaimana didakwakan dalam Dakwaan Primair; 2.Membebaskan Terdakwa oleh karena itu dari Dakwaan Primair; 3.Menyatakan Terdakwa Alfensyah Alias Alpen tersebut diatas terbukti secara sah dan meyakinkan bersalah melakukan tindak pidana ”Tanpa Hak Memiliki Narkotika Golongan I Dalam Bentuk Bukan Tanaman” sebagaimana dalam Dakwaan Subsidair ; 4.Menjatuhkan pidana kepada Terdakwa oleh karena itu dengan pidana penjara selama 6 (enam) Tahun dan denda...\n",
            "\n",
            "==================================================\n",
            "\n",
            "--- Query 3: Kasus baru: kepemilikan ganja untuk pribadi. ---\n",
            "\n",
            "--- Memproses Query untuk Solution Reuse ---\n",
            "Query Teks: Seorang wanita tertangkap membawa daun ganja kering untuk konsumsi pribadi. Tidak ada bukti penjualan.\n",
            "Query Teks (Preprocessed): wanita tertangkap membawa daun ganja kering konsumsi pribadi bukti penjualan\n",
            "\n",
            "Menemukan 3 kasus paling mirip:\n",
            "  Rank 1: Case ID: 37, File: 942_Pid.Sus_2024_PN Rap.txt, Similarity: 0.3027\n",
            "    No. Perkara: 942/Pid.Sus/2024/PN Rap, Tanggal: 27 Agustus 2024\n",
            "    Pasal: nan\n",
            "    Amar Putusan (Singkat): 1.Menyatakan Terdakwa Darwin Sianturi alias Tupang tersebut di atas, terbukti secara sah dan meyakinkan bersalah melakukan tindak pidana “Tanpa Hak Me...\n",
            "  Rank 2: Case ID: 46, File: 943_Pid.Sus_2024_PN Rap.txt, Similarity: 0.2502\n",
            "    No. Perkara: 943/Pid.Sus/2024/PN Rap, Tanggal: 27 Agustus 2024\n",
            "    Pasal: 1 Ayat 1\n",
            "    Amar Putusan (Singkat): 1.Menyatakan Terdakwa Rindu Efendy Gultom Alias Pak Joi tersebut diatas terbukti secara sah dan meyakinkan bersalah melakukan tindak pidana “Tanpa Hak...\n",
            "  Rank 3: Case ID: 25, File: 837_Pid.Sus_2024_PN Rap.txt, Similarity: 0.2093\n",
            "    No. Perkara: 837/Pid.Sus/2024/PN Rap, Tanggal: 30 Juli 2024\n",
            "    Pasal: 1 Angka 1\n",
            "    Amar Putusan (Singkat): nan...\n",
            "\n",
            "--- Rekomendasi Solusi Berdasarkan Kasus Serupa ---\n",
            "Pasal yang Direkomendasikan: 1 Angka 1, 1 Ayat 1, nan\n",
            "\n",
            "Ringkasan Amar Putusan dari Kasus Paling Mirip:\n",
            "1.Menyatakan Terdakwa Darwin Sianturi alias Tupang tersebut di atas, terbukti secara sah dan meyakinkan bersalah melakukan tindak pidana “Tanpa Hak Menjual Narkotika Golongan I ” sebagaimana dalam Dakwaan Primair; 2.Menjatuhkan pidana kepada Terdakwa oleh karena itu dengan pidana penjara selama 5 (lima) tahun dan 6 (enam) bulan serta denda sejumlah Rp1.000.000.000,00 (satu milyar rupiah) dengan ketentuan apabila denda tersebut tidak dibayar diganti dengan pidana penjara selama 3 (tiga) bulan; 3.Menetapkan masa penangkapan dan penahanan yang telah dijalani Terdakwa dikurangkan seluruhnya dari pidana yang dijatuhkan; 4.Menetapkan Terdakwa tetap ditahan; 5.Menetapkan barang bukti berupa : 7 (tujuh) bungkus kertas warna cokelat berisi narkotika jenis ganja seberat 73,81 (tujuh puluh tiga koma delapan satu) gram netto; 1 (satu) bungkus kertas warna cokelat berisi narkotika jenis ganja seberat 49 (empat puluh sembilan) gram netto; 1 (satu) unit handphone merek Vivo warna biru; 1 (satu) buah kertas bungkus rokok Gudang Garam merah; dan 2 (dua) buah plastik asoy warna hitam; Dimusnahkan; 1 (satu) unit sepeda motor merek Vario warna putih; Dirampas untuk negara ; 6.Membebankan kepada Terdakwa membayar biaya perkara se jumlah Rp5.000,00 (lima ribu rupiah);\n",
            "1.Menyatakan Terdakwa Rindu Efendy Gultom Alias Pak Joi tersebut diatas terbukti secara sah dan meyakinkan bersalah melakukan tindak pidana “Tanpa Hak Membeli Narkotika Golongan I Dalam Bentuk Tanaman“, sebagaimana dalam Dakwaan Primair ; 2.Menjatuhkan pidana kepada Terdakwa oleh karena itu dengan pidana penjara selama 7 (tujuh) Tahun dan denda sejumlah Rp1.000.000.000,00 (satu milyar rupiah), dengan ketentuan apabila denda tersebut tidak dibayar akan diganti dengan pidana penjara selama 6 (enam) bulan; 3.Menetapkan masa penangkapan dan penahanan yang telah dijalani Terdakwa dikurangkan seluruhnya dari pidana yang dijatuhkan; 4.Menetapkan Terdakwa tetap ditahan; 5.Menetapkan barang bukti berupa: -1 (satu) bungkus kertas warna cokelat berisi Narkotika jenis ganja seberat 93, 73 (Sembilan puluh tiga koma tujuh puluh tiga) gram netto; -1 (satu) unit Handphone merk Vivo warna putih ; Dimusnahkan; 6. Membebankan kepada Terdakwa membayar biaya perkara sejumlah Rp5.000,00 (Lima ribu rupiah); Demikian diputuskan dalam sidang permusyawaratan Majelis Hakim Pengadilan Negeri Rantau Prapat, pada hari Senin, tanggal 16 Desember 2024, oleh Rachmansyah, S.H.,M.H., sebagai Hakim Ketua, Hendrik Tarigan, Halaman 18 dari 19 Putusan Nomor 943/Pid.Sus/2024/PN Rap Disclaimer Kepaniteraan Mahkamah Agung Republik Indonesia berusaha untuk selalu mencantumkan informasi paling kini dan akurat sebagai bentuk komitmen Mahkamah Agung untuk pelayanan publik, transparansi dan akuntabilitas pelaksanaan fungsi peradilan....\n",
            "nan\n",
            "\n",
            "==================================================\n",
            "\n",
            "--- Query 4: Kasus baru: sindikat internasional, kokain, penyelundupan. ---\n",
            "\n",
            "--- Memproses Query untuk Solution Reuse ---\n",
            "Query Teks: Sindikat narkoba internasional tertangkap saat menyelundupkan kokain dalam jumlah besar melalui pelabuhan.\n",
            "Query Teks (Preprocessed): sindikat narkoba internasional tertangkap menyelundupkan kokain pelabuhan\n",
            "\n",
            "Menemukan 3 kasus paling mirip:\n",
            "  Rank 1: Case ID: 32, File: 835_Pid.Sus_2024_PN Rap.txt, Similarity: 0.0375\n",
            "    No. Perkara: 835/Pid.Sus/2024/PN Rap, Tanggal: 8 Agustus 2024\n",
            "    Pasal: nan\n",
            "    Amar Putusan (Singkat): 1.Menyatakan Terdakwa Rudi Sucipto alias Rudi tersebut diatas terbukti secara sah dan meyakinkan bersalah melakukan tindak pidana “Tanpa Hak Membeli N...\n",
            "  Rank 2: Case ID: 29, File: 725_Pid.Sus_2024_PN Rap.txt, Similarity: 0.0313\n",
            "    No. Perkara: 725/Pid.Sus/2024/PN Rap, Tanggal: 20 Mei 2024\n",
            "    Pasal: 1 Angka 1\n",
            "    Amar Putusan (Singkat): 1.Menyatakan Terdakwa Rizky Samuel Tambunan Alias Onga tersebut diatas terbukti secara sah dan meyakinkan bersalah melakukan tindak pidana “Permufakat...\n",
            "  Rank 3: Case ID: 12, File: 754_Pid.Sus_2024_PN Rap.txt, Similarity: 0.0301\n",
            "    No. Perkara: 754/Pid.Sus/2024/PN Rap, Tanggal: 5 Mei 2024\n",
            "    Pasal: nan\n",
            "    Amar Putusan (Singkat): 1.Menyatakan Terdakwa I. Bayu Ariadi alias Bayu dan Terdakwa II. Khairul Rozikin alias Heru tersebut diatas terbukti secara sah dan meyakinkan bersala...\n",
            "\n",
            "--- Rekomendasi Solusi Berdasarkan Kasus Serupa ---\n",
            "Pasal yang Direkomendasikan: 1 Angka 1, nan\n",
            "\n",
            "Ringkasan Amar Putusan dari Kasus Paling Mirip:\n",
            "1.Menyatakan Terdakwa Rudi Sucipto alias Rudi tersebut diatas terbukti secara sah dan meyakinkan bersalah melakukan tindak pidana “Tanpa Hak Membeli Narkotika Golongan I“, sebagaimana dalam Dakwaan Primair; 2.Menjatuhkan pidana kepada Terdakwa oleh karena itu dengan pidana penjara selama 7 (tujuh) tahun dan denda sejumlah Rp1.000.000.000,00 (satu milyar rupiah) dengan ketentuan apabila denda tersebut tidak dibayar diganti dengan pidana penjara selama 3 (tiga) bulan; 3.Menetapkan masa penangkapan dan penahanan yang telah dijalani Terdakwa dikurangkan seluruhnya dari pidana yang dijatuhkan; 4.Menetapkan Terdakwa tetap ditahan; 5.Menetapkan barang bukti berupa: Halaman 22 dari 23 Putusan Nomor 835/Pid.Sus/2024/PN Rap Disclaimer Kepaniteraan Mahkamah Agung Republik Indonesia berusaha untuk selalu mencantumkan informasi paling kini dan akurat sebagai bentuk komitmen Mahkamah Agung untuk pelayanan publik, transparansi dan akuntabilitas pelaksanaan fungsi peradilan. Namun dalam hal-hal tertentu masih dimungkinkan terjadi permasalahan teknis terkait dengan akurasi dan keterkinian informasi yang kami sajikan, hal mana akan terus kami perbaiki dari waktu kewaktu. Dalam hal Anda menemukan inakurasi informasi yang termuat pada situs ini atau informasi yang seharusnya ada, namun belum tersedia, maka harap segera hubungi Kepaniteraan Mahkamah Agung RI melalui : Email : kepaniteraan@mahkamahagung.go.id Telp : 021-384 3348 (ext.318) Halaman 22 Mahkamah Agung Republik Indonesia Mahkamah Agung Republik Indonesia Mahkamah Agung Republik...\n",
            "1.Menyatakan Terdakwa Rizky Samuel Tambunan Alias Onga tersebut diatas terbukti secara sah dan meyakinkan bersalah melakukan tindak pidana “Permufakatan Jahat Tanpa Hak Menjadi Perantara Dalam Jual Beli Narkotika Golongan I Bukan Tanaman Yang Beratnya Melebihi 5 (lima) Gram “ sebagaimana dalam Dakwaan Primair ; 2.Menjatuhkan pidana kepada Terdakwa oleh karena itu dengan pidana penjara selama 6 (enam) Tahun dan denda sejumlah Rp.1.000.000.000,00 (satu milyar rupiah) dengan ketentuan apabila denda tersebut tidak dibayar akan diganti dengan pidana penjara selama 2 (dua) Bulan; 3.Menetapkan masa penangkapan dan penahanan yang telah dijalani Terdakwa dikurangkan seluruhnya dari pidana yang dijatuhkan; 4.Menetapkan Terdakwa tetap ditahan; 5.Menetapkan barang bukti berupa : -1 (satu) unit handphone Android merek Oppo Reno 8 warna Hijau; -1 (satu) buah baju kaos warna putih; Dimusnahkan; -2 (dua) bungkus plastik klip transparan sedang berisi Narkotika jenis sabu seberat 36,1 (tiga puluh enam koma satu) gram; Halaman 29 dari 30 Putusan Nomor 725/Pid.Sus/2024/PN Rap Disclaimer Kepaniteraan Mahkamah Agung Republik Indonesia berusaha untuk selalu mencantumkan informasi paling kini dan akurat sebagai bentuk komitmen Mahkamah Agung untuk pelayanan publik, transparansi dan akuntabilitas pelaksanaan fungsi peradilan. Namun dalam hal-hal tertentu masih dimungkinkan terjadi permasalahan teknis terkait dengan akurasi dan keterkinian informasi yang kami sajikan, hal mana...\n",
            "1.Menyatakan Terdakwa I. Bayu Ariadi alias Bayu dan Terdakwa II. Khairul Rozikin alias Heru tersebut diatas terbukti secara sah dan meyakinkan bersalah melakukan tindak pidana “Permufakatan Jahat Tanpa Hak Membeli Narkotika Golongan I“, sebagaimana dalam Dakwaan Primair; 2.Menjatuhkan pidana kepada Para Terdakwa oleh karena itu dengan pidana penjara masing-masing selama 7 (tujuh) tahun dan denda sejumlah Rp1.000.000.000,00 (satu milyar rupiah) dengan ketentuan apabila denda tersebut tidak dibayar diganti dengan pidana penjara selama 3 (tiga) bulan; 3.Menetapkan masa penangkapan dan penahanan yang telah dijalani Para Terdakwa dikurangkan seluruhnya dari pidana yang dijatuhkan; 4.Menetapkan Para Terdakwa tetap ditahan; 5.Menetapkan barang bukti berupa: -2 (dua) bungkus plastik klip kecil berisikan narkotika jenis sabu seberat 1,42 (satu koma empat dua) gram netto; -1 (satu) bungkus plastik klip kosong; -1 (satu) unit handphone Vivo berwarna silver; -1 (satu) buah kotak rokok X Bold; -1 (satu) pasang sandal warna hijau; Dimusnahkan; -1 (satu) unit sepeda motor Scoopy warna hitam abu-abu Nomor Polisi BK 2271 ZAR; Dirampas untuk Negara; 6.Membebankan kepada Para Terdakwa membayar biaya perkara masing-masing sejumlah Rp.5.000,00 (lima ribu rupiah);\n",
            "\n",
            "==================================================\n"
          ]
        }
      ]
    },
    {
      "cell_type": "markdown",
      "metadata": {
        "id": "c1803ee5"
      },
      "source": [
        "## Visualisasi Distribusi Pasal\n",
        "\n",
        "Visualisasi berikut menampilkan distribusi frekuensi pasal-pasal yang muncul dalam dataset. Hal ini membantu memahami pasal mana yang paling dominan."
      ]
    },
    {
      "cell_type": "code",
      "metadata": {
        "colab": {
          "base_uri": "https://localhost:8080/",
          "height": 714
        },
        "id": "f8af1dab",
        "outputId": "cc222898-d041-4edb-8120-92eab49d7f7f"
      },
      "source": [
        "import matplotlib.pyplot as plt\n",
        "import seaborn as sns\n",
        "\n",
        "# Hitung frekuensi setiap pasal\n",
        "pasal_counts = df_cases['pasal'].value_counts().reset_index()\n",
        "pasal_counts.columns = ['Pasal', 'Jumlah Kasus']\n",
        "\n",
        "# Ambil 15 pasal teratas untuk visualisasi agar tidak terlalu ramai\n",
        "top_n = 15\n",
        "pasal_counts_top = pasal_counts.head(top_n)\n",
        "\n",
        "plt.figure(figsize=(12, 6))\n",
        "sns.barplot(x='Jumlah Kasus', y='Pasal', data=pasal_counts_top, palette='viridis')\n",
        "plt.title(f'Distribusi {top_n} Pasal Teratas dalam Dataset')\n",
        "plt.xlabel('Jumlah Kasus')\n",
        "plt.ylabel('Pasal')\n",
        "plt.tight_layout()\n",
        "plt.show()"
      ],
      "execution_count": 5,
      "outputs": [
        {
          "output_type": "stream",
          "name": "stderr",
          "text": [
            "<ipython-input-5-4286224174>:13: FutureWarning: \n",
            "\n",
            "Passing `palette` without assigning `hue` is deprecated and will be removed in v0.14.0. Assign the `y` variable to `hue` and set `legend=False` for the same effect.\n",
            "\n",
            "  sns.barplot(x='Jumlah Kasus', y='Pasal', data=pasal_counts_top, palette='viridis')\n"
          ]
        },
        {
          "output_type": "display_data",
          "data": {
            "text/plain": [
              "<Figure size 1200x600 with 1 Axes>"
            ],
            "image/png": "[encoded data removed]"
          },
          "metadata": {}
        }
      ]
    }
  ]
}